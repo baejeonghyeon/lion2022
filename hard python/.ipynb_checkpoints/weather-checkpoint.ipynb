{
 "cells": [
  {
   "cell_type": "code",
   "execution_count": 36,
   "id": "fc35dadb",
   "metadata": {},
   "outputs": [],
   "source": [
    "# 서울 날씨 정보 가져오는 프로그램 만들기\n",
    "\n",
    "import requests # HTTP request를 쉽게 구현해주는 라이브러리\n",
    "import json"
   ]
  },
  {
   "cell_type": "code",
   "execution_count": 79,
   "id": "9d249997",
   "metadata": {},
   "outputs": [
    {
     "data": {
      "text/plain": [
       "'https://api.openweathermap.org/data/2.5/weather?q=Seoul&appid=ed82cbe14660ebe8a6d47e166e2bb04a&lang=kr&units=metric'"
      ]
     },
     "execution_count": 79,
     "metadata": {},
     "output_type": "execute_result"
    }
   ],
   "source": [
    "city = 'Seoul'\n",
    "apikey = 'ed82cbe14660ebe8a6d47e166e2bb04a'\n",
    "lang = 'kr'\n",
    "\n",
    "api = f'https://api.openweathermap.org/data/2.5/weather?q={city}&appid={apikey}&lang={lang}&units=metric'\n",
    "api"
   ]
  },
  {
   "cell_type": "code",
   "execution_count": 80,
   "id": "10592507",
   "metadata": {},
   "outputs": [
    {
     "data": {
      "text/plain": [
       "<Response [200]>"
      ]
     },
     "execution_count": 80,
     "metadata": {},
     "output_type": "execute_result"
    }
   ],
   "source": [
    "result = requests.get(api)\n",
    "result"
   ]
  },
  {
   "cell_type": "code",
   "execution_count": 81,
   "id": "895ece63",
   "metadata": {},
   "outputs": [
    {
     "data": {
      "text/plain": [
       "'{\"coord\":{\"lon\":126.9778,\"lat\":37.5683},\"weather\":[{\"id\":800,\"main\":\"Clear\",\"description\":\"맑음\",\"icon\":\"01d\"}],\"base\":\"stations\",\"main\":{\"temp\":14.97,\"feels_like\":14.06,\"temp_min\":11.69,\"temp_max\":16.66,\"pressure\":1016,\"humidity\":59},\"visibility\":10000,\"wind\":{\"speed\":5.14,\"deg\":290},\"clouds\":{\"all\":0},\"dt\":1651304201,\"sys\":{\"type\":1,\"id\":8105,\"country\":\"KR\",\"sunrise\":1651264706,\"sunset\":1651314005},\"timezone\":32400,\"id\":1835848,\"name\":\"Seoul\",\"cod\":200}'"
      ]
     },
     "execution_count": 81,
     "metadata": {},
     "output_type": "execute_result"
    }
   ],
   "source": [
    "result.text"
   ]
  },
  {
   "cell_type": "code",
   "execution_count": 82,
   "id": "e64ecae9",
   "metadata": {},
   "outputs": [
    {
     "data": {
      "text/plain": [
       "str"
      ]
     },
     "execution_count": 82,
     "metadata": {},
     "output_type": "execute_result"
    }
   ],
   "source": [
    "type(result.text)"
   ]
  },
  {
   "cell_type": "code",
   "execution_count": 83,
   "id": "b498ada4",
   "metadata": {},
   "outputs": [
    {
     "data": {
      "text/plain": [
       "{'coord': {'lon': 126.9778, 'lat': 37.5683},\n",
       " 'weather': [{'id': 800, 'main': 'Clear', 'description': '맑음', 'icon': '01d'}],\n",
       " 'base': 'stations',\n",
       " 'main': {'temp': 14.97,\n",
       "  'feels_like': 14.06,\n",
       "  'temp_min': 11.69,\n",
       "  'temp_max': 16.66,\n",
       "  'pressure': 1016,\n",
       "  'humidity': 59},\n",
       " 'visibility': 10000,\n",
       " 'wind': {'speed': 5.14, 'deg': 290},\n",
       " 'clouds': {'all': 0},\n",
       " 'dt': 1651304201,\n",
       " 'sys': {'type': 1,\n",
       "  'id': 8105,\n",
       "  'country': 'KR',\n",
       "  'sunrise': 1651264706,\n",
       "  'sunset': 1651314005},\n",
       " 'timezone': 32400,\n",
       " 'id': 1835848,\n",
       " 'name': 'Seoul',\n",
       " 'cod': 200}"
      ]
     },
     "execution_count": 83,
     "metadata": {},
     "output_type": "execute_result"
    }
   ],
   "source": [
    "data = json.loads(result.text)\n",
    "data"
   ]
  },
  {
   "cell_type": "code",
   "execution_count": 84,
   "id": "2f03034f",
   "metadata": {},
   "outputs": [
    {
     "data": {
      "text/plain": [
       "dict"
      ]
     },
     "execution_count": 84,
     "metadata": {},
     "output_type": "execute_result"
    }
   ],
   "source": [
    "type(data)"
   ]
  },
  {
   "cell_type": "code",
   "execution_count": 85,
   "id": "97feebfa",
   "metadata": {},
   "outputs": [
    {
     "name": "stdout",
     "output_type": "stream",
     "text": [
      "Seoul 날씨입니다.\n",
      "날씨는  맑음 입니다.\n",
      "현재 온도는  14.97 입니다.\n",
      "하지만 체감 온도는  14.06 입니다.\n",
      "최저 기온은  11.69 입니다.\n",
      "최고 기온은  16.66 입니다.\n",
      "습도는  59 입니다.\n",
      "기압은  1016 입니다.\n",
      "풍향은  290 입니다.\n",
      "풍속은  5.14 입니다.\n"
     ]
    }
   ],
   "source": [
    "print(data['name'], '날씨입니다.')\n",
    "print('날씨는 ', data['weather'][0]['description'], '입니다.')\n",
    "print('현재 온도는 ', data['main']['temp'], '입니다.')\n",
    "print('하지만 체감 온도는 ', data['main']['feels_like'], '입니다.')\n",
    "print('최저 기온은 ', data['main']['temp_min'], '입니다.')\n",
    "print('최고 기온은 ', data['main']['temp_max'], '입니다.')\n",
    "print('습도는 ', data['main']['humidity'], '입니다.')\n",
    "print('기압은 ', data['main']['pressure'], '입니다.')\n",
    "print('풍향은 ', data['wind']['deg'], '입니다.')\n",
    "print('풍속은 ', data['wind']['speed'], '입니다.')"
   ]
  },
  {
   "cell_type": "code",
   "execution_count": null,
   "id": "f4201795",
   "metadata": {},
   "outputs": [],
   "source": []
  },
  {
   "cell_type": "code",
   "execution_count": null,
   "id": "8bb7a910",
   "metadata": {},
   "outputs": [],
   "source": []
  }
 ],
 "metadata": {
  "kernelspec": {
   "display_name": "Python 3 (ipykernel)",
   "language": "python",
   "name": "python3"
  },
  "language_info": {
   "codemirror_mode": {
    "name": "ipython",
    "version": 3
   },
   "file_extension": ".py",
   "mimetype": "text/x-python",
   "name": "python",
   "nbconvert_exporter": "python",
   "pygments_lexer": "ipython3",
   "version": "3.9.7"
  }
 },
 "nbformat": 4,
 "nbformat_minor": 5
}
